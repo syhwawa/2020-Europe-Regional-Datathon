{
 "cells": [
  {
   "cell_type": "code",
   "execution_count": 1,
   "metadata": {},
   "outputs": [
    {
     "name": "stderr",
     "output_type": "stream",
     "text": [
      "<ipython-input-1-d7f2bc1e0341>:12: TqdmDeprecationWarning: This function will be removed in tqdm==5.0.0\n",
      "Please use `tqdm.notebook.*` instead of `tqdm._tqdm_notebook.*`\n",
      "  from tqdm._tqdm_notebook import tqdm_notebook\n"
     ]
    }
   ],
   "source": [
    "import geopandas\n",
    "import matplotlib.pyplot as plt\n",
    "import pandas as pd\n",
    "import shapely.speedups\n",
    "import requests\n",
    "import json\n",
    "from census import Census\n",
    "from us import states\n",
    "import censusgeocode as cg\n",
    "import pyproj\n",
    "import numpy as np\n",
    "from tqdm._tqdm_notebook import tqdm_notebook\n",
    "from geopandas.tools import sjoin"
   ]
  },
  {
   "cell_type": "code",
   "execution_count": 2,
   "metadata": {},
   "outputs": [],
   "source": [
    "# speeds up shapely calls\n",
    "# shapely.speedups.enable()\n",
    "transformer = pyproj.Transformer.from_crs(\"EPSG:2263\",'epsg:4326')\n"
   ]
  },
  {
   "cell_type": "raw",
   "metadata": {},
   "source": [
    "Data taken from https://www.census.gov/geographies/mapping-files/time-series/geo/carto-boundary-file.html\n",
    "Added the data for the New York tracts (was only New Jersey before)"
   ]
  },
  {
   "cell_type": "code",
   "execution_count": 3,
   "metadata": {},
   "outputs": [
    {
     "data": {
      "text/html": [
       "<div>\n",
       "<style scoped>\n",
       "    .dataframe tbody tr th:only-of-type {\n",
       "        vertical-align: middle;\n",
       "    }\n",
       "\n",
       "    .dataframe tbody tr th {\n",
       "        vertical-align: top;\n",
       "    }\n",
       "\n",
       "    .dataframe thead th {\n",
       "        text-align: right;\n",
       "    }\n",
       "</style>\n",
       "<table border=\"1\" class=\"dataframe\">\n",
       "  <thead>\n",
       "    <tr style=\"text-align: right;\">\n",
       "      <th></th>\n",
       "      <th>STATEFP</th>\n",
       "      <th>COUNTYFP</th>\n",
       "      <th>TRACTCE</th>\n",
       "      <th>AFFGEOID</th>\n",
       "      <th>GEOID</th>\n",
       "      <th>NAME</th>\n",
       "      <th>LSAD</th>\n",
       "      <th>ALAND</th>\n",
       "      <th>AWATER</th>\n",
       "      <th>geometry</th>\n",
       "    </tr>\n",
       "  </thead>\n",
       "  <tbody>\n",
       "    <tr>\n",
       "      <th>0</th>\n",
       "      <td>34</td>\n",
       "      <td>023</td>\n",
       "      <td>004700</td>\n",
       "      <td>1400000US34023004700</td>\n",
       "      <td>34023004700</td>\n",
       "      <td>47</td>\n",
       "      <td>CT</td>\n",
       "      <td>648594</td>\n",
       "      <td>0</td>\n",
       "      <td>POLYGON ((-74.29005 40.52265, -74.28748 40.521...</td>\n",
       "    </tr>\n",
       "    <tr>\n",
       "      <th>1</th>\n",
       "      <td>34</td>\n",
       "      <td>023</td>\n",
       "      <td>006103</td>\n",
       "      <td>1400000US34023006103</td>\n",
       "      <td>34023006103</td>\n",
       "      <td>61.03</td>\n",
       "      <td>CT</td>\n",
       "      <td>2845215</td>\n",
       "      <td>9920</td>\n",
       "      <td>POLYGON ((-74.49146 40.45320, -74.48557 40.457...</td>\n",
       "    </tr>\n",
       "    <tr>\n",
       "      <th>2</th>\n",
       "      <td>34</td>\n",
       "      <td>023</td>\n",
       "      <td>006500</td>\n",
       "      <td>1400000US34023006500</td>\n",
       "      <td>34023006500</td>\n",
       "      <td>65</td>\n",
       "      <td>CT</td>\n",
       "      <td>5178980</td>\n",
       "      <td>530</td>\n",
       "      <td>POLYGON ((-74.42388 40.44648, -74.42045 40.445...</td>\n",
       "    </tr>\n",
       "    <tr>\n",
       "      <th>3</th>\n",
       "      <td>34</td>\n",
       "      <td>029</td>\n",
       "      <td>715902</td>\n",
       "      <td>1400000US34029715902</td>\n",
       "      <td>34029715902</td>\n",
       "      <td>7159.02</td>\n",
       "      <td>CT</td>\n",
       "      <td>3377179</td>\n",
       "      <td>201835</td>\n",
       "      <td>POLYGON ((-74.19763 40.04472, -74.19664 40.050...</td>\n",
       "    </tr>\n",
       "    <tr>\n",
       "      <th>4</th>\n",
       "      <td>34</td>\n",
       "      <td>029</td>\n",
       "      <td>721000</td>\n",
       "      <td>1400000US34029721000</td>\n",
       "      <td>34029721000</td>\n",
       "      <td>7210</td>\n",
       "      <td>CT</td>\n",
       "      <td>2260503</td>\n",
       "      <td>240040</td>\n",
       "      <td>POLYGON ((-74.33147 40.02096, -74.32669 40.021...</td>\n",
       "    </tr>\n",
       "    <tr>\n",
       "      <th>...</th>\n",
       "      <td>...</td>\n",
       "      <td>...</td>\n",
       "      <td>...</td>\n",
       "      <td>...</td>\n",
       "      <td>...</td>\n",
       "      <td>...</td>\n",
       "      <td>...</td>\n",
       "      <td>...</td>\n",
       "      <td>...</td>\n",
       "      <td>...</td>\n",
       "    </tr>\n",
       "    <tr>\n",
       "      <th>4901</th>\n",
       "      <td>36</td>\n",
       "      <td>047</td>\n",
       "      <td>059100</td>\n",
       "      <td>1400000US36047059100</td>\n",
       "      <td>36047059100</td>\n",
       "      <td>591</td>\n",
       "      <td>CT</td>\n",
       "      <td>192105</td>\n",
       "      <td>0</td>\n",
       "      <td>POLYGON ((-73.94543 40.72552, -73.94357 40.725...</td>\n",
       "    </tr>\n",
       "    <tr>\n",
       "      <th>4902</th>\n",
       "      <td>36</td>\n",
       "      <td>009</td>\n",
       "      <td>961300</td>\n",
       "      <td>1400000US36009961300</td>\n",
       "      <td>36009961300</td>\n",
       "      <td>9613</td>\n",
       "      <td>CT</td>\n",
       "      <td>413393835</td>\n",
       "      <td>2880671</td>\n",
       "      <td>POLYGON ((-78.94409 42.02386, -78.93824 42.025...</td>\n",
       "    </tr>\n",
       "    <tr>\n",
       "      <th>4903</th>\n",
       "      <td>36</td>\n",
       "      <td>013</td>\n",
       "      <td>035300</td>\n",
       "      <td>1400000US36013035300</td>\n",
       "      <td>36013035300</td>\n",
       "      <td>353</td>\n",
       "      <td>CT</td>\n",
       "      <td>96482169</td>\n",
       "      <td>10449194</td>\n",
       "      <td>POLYGON ((-79.29492 42.45567, -79.29472 42.456...</td>\n",
       "    </tr>\n",
       "    <tr>\n",
       "      <th>4904</th>\n",
       "      <td>36</td>\n",
       "      <td>093</td>\n",
       "      <td>020300</td>\n",
       "      <td>1400000US36093020300</td>\n",
       "      <td>36093020300</td>\n",
       "      <td>203</td>\n",
       "      <td>CT</td>\n",
       "      <td>490013</td>\n",
       "      <td>53188</td>\n",
       "      <td>POLYGON ((-73.94188 42.82295, -73.94016 42.823...</td>\n",
       "    </tr>\n",
       "    <tr>\n",
       "      <th>4905</th>\n",
       "      <td>36</td>\n",
       "      <td>103</td>\n",
       "      <td>146106</td>\n",
       "      <td>1400000US36103146106</td>\n",
       "      <td>36103146106</td>\n",
       "      <td>1461.06</td>\n",
       "      <td>CT</td>\n",
       "      <td>2250749</td>\n",
       "      <td>0</td>\n",
       "      <td>POLYGON ((-73.24619 40.76870, -73.24617 40.778...</td>\n",
       "    </tr>\n",
       "  </tbody>\n",
       "</table>\n",
       "<p>6912 rows × 10 columns</p>\n",
       "</div>"
      ],
      "text/plain": [
       "     STATEFP COUNTYFP TRACTCE              AFFGEOID        GEOID     NAME  \\\n",
       "0         34      023  004700  1400000US34023004700  34023004700       47   \n",
       "1         34      023  006103  1400000US34023006103  34023006103    61.03   \n",
       "2         34      023  006500  1400000US34023006500  34023006500       65   \n",
       "3         34      029  715902  1400000US34029715902  34029715902  7159.02   \n",
       "4         34      029  721000  1400000US34029721000  34029721000     7210   \n",
       "...      ...      ...     ...                   ...          ...      ...   \n",
       "4901      36      047  059100  1400000US36047059100  36047059100      591   \n",
       "4902      36      009  961300  1400000US36009961300  36009961300     9613   \n",
       "4903      36      013  035300  1400000US36013035300  36013035300      353   \n",
       "4904      36      093  020300  1400000US36093020300  36093020300      203   \n",
       "4905      36      103  146106  1400000US36103146106  36103146106  1461.06   \n",
       "\n",
       "     LSAD      ALAND    AWATER  \\\n",
       "0      CT     648594         0   \n",
       "1      CT    2845215      9920   \n",
       "2      CT    5178980       530   \n",
       "3      CT    3377179    201835   \n",
       "4      CT    2260503    240040   \n",
       "...   ...        ...       ...   \n",
       "4901   CT     192105         0   \n",
       "4902   CT  413393835   2880671   \n",
       "4903   CT   96482169  10449194   \n",
       "4904   CT     490013     53188   \n",
       "4905   CT    2250749         0   \n",
       "\n",
       "                                               geometry  \n",
       "0     POLYGON ((-74.29005 40.52265, -74.28748 40.521...  \n",
       "1     POLYGON ((-74.49146 40.45320, -74.48557 40.457...  \n",
       "2     POLYGON ((-74.42388 40.44648, -74.42045 40.445...  \n",
       "3     POLYGON ((-74.19763 40.04472, -74.19664 40.050...  \n",
       "4     POLYGON ((-74.33147 40.02096, -74.32669 40.021...  \n",
       "...                                                 ...  \n",
       "4901  POLYGON ((-73.94543 40.72552, -73.94357 40.725...  \n",
       "4902  POLYGON ((-78.94409 42.02386, -78.93824 42.025...  \n",
       "4903  POLYGON ((-79.29492 42.45567, -79.29472 42.456...  \n",
       "4904  POLYGON ((-73.94188 42.82295, -73.94016 42.823...  \n",
       "4905  POLYGON ((-73.24619 40.76870, -73.24617 40.778...  \n",
       "\n",
       "[6912 rows x 10 columns]"
      ]
     },
     "execution_count": 3,
     "metadata": {},
     "output_type": "execute_result"
    }
   ],
   "source": [
    "# read geo data\n",
    "zipfile1 = \"zip://./data/cb_2018_34_tract_500k.zip\"\n",
    "zipfile2 = \"zip://./data/cb_2018_36_tract_500k.zip\"\n",
    "tract_data1 = geopandas.read_file(zipfile1)\n",
    "tract_data2 = geopandas.read_file(zipfile2)\n",
    "tract_data = geopandas.GeoDataFrame(pd.concat([tract_data1,tract_data2]))\n",
    "tract_data"
   ]
  },
  {
   "cell_type": "code",
   "execution_count": 4,
   "metadata": {},
   "outputs": [],
   "source": [
    "def clean_irrelevant(df):\n",
    "    #Clean records with no coordinates and no address\n",
    "    df.drop(df.loc[(df['Address Type']!='ADDRESS') & (df['X Coordinate (State Plane)'].isnull() | df['Latitude'].isnull())].index, inplace=True)\n",
    "    return df"
   ]
  },
  {
   "cell_type": "code",
   "execution_count": 5,
   "metadata": {},
   "outputs": [],
   "source": [
    "def get_coordinates(row):\n",
    "    if (pd.notnull(row['X Coordinate (State Plane)']) and pd.isnull(row['Latitude'])):\n",
    "        lat,long = transformer.transform(row['X Coordinate (State Plane)'], row['Y Coordinate (State Plane)'])\n",
    "        row['Latitude'] = lat\n",
    "        row['Longitude'] = long\n",
    "        #What's the point of following statement?\n",
    "        if pd.notnull(row['Latitude']) and pd.notnull(row[\"Longitude\"]):\n",
    "            lat = row['Latitude']\n",
    "            long = row['Longitude']"
   ]
  },
  {
   "cell_type": "markdown",
   "metadata": {},
   "source": [
    "I think the problem was that the Coordinate Reference System (CRS) was undefined for gdf. Added it and now it works."
   ]
  },
  {
   "cell_type": "code",
   "execution_count": 6,
   "metadata": {},
   "outputs": [
    {
     "name": "stdout",
     "output_type": "stream",
     "text": [
      "2010\n"
     ]
    },
    {
     "name": "stderr",
     "output_type": "stream",
     "text": [
      "/Users/Yan/anaconda3/lib/python3.8/site-packages/IPython/core/interactiveshell.py:3071: DtypeWarning: Columns (8,17,31,32,33,34,35,36,37) have mixed types.Specify dtype option on import or set low_memory=False.\n",
      "  has_raised = await self.run_ast_nodes(code_ast.body, cell_name,\n",
      "/Users/Yan/anaconda3/lib/python3.8/site-packages/tqdm/std.py:668: FutureWarning: The Panel class is removed from pandas. Accessing it from the top-level namespace will also be removed in the next version\n",
      "  from pandas import Panel\n"
     ]
    },
    {
     "name": "stdout",
     "output_type": "stream",
     "text": [
      "Shape after cleaning year 2010(433797, 41)\n"
     ]
    },
    {
     "data": {
      "application/vnd.jupyter.widget-view+json": {
       "model_id": "d68b094dd4614568ae14b0773b9461e6",
       "version_major": 2,
       "version_minor": 0
      },
      "text/plain": [
       "HBox(children=(FloatProgress(value=0.0, description='Converting XY to long/lat...', max=433797.0, style=Progre…"
      ]
     },
     "metadata": {},
     "output_type": "display_data"
    },
    {
     "name": "stdout",
     "output_type": "stream",
     "text": [
      "\n",
      "2011\n"
     ]
    },
    {
     "name": "stderr",
     "output_type": "stream",
     "text": [
      "/Users/Yan/anaconda3/lib/python3.8/site-packages/IPython/core/interactiveshell.py:3071: DtypeWarning: Columns (8) have mixed types.Specify dtype option on import or set low_memory=False.\n",
      "  has_raised = await self.run_ast_nodes(code_ast.body, cell_name,\n",
      "/Users/Yan/anaconda3/lib/python3.8/site-packages/tqdm/std.py:668: FutureWarning: The Panel class is removed from pandas. Accessing it from the top-level namespace will also be removed in the next version\n",
      "  from pandas import Panel\n"
     ]
    },
    {
     "name": "stdout",
     "output_type": "stream",
     "text": [
      "Shape after cleaning year 2011(409296, 41)\n"
     ]
    },
    {
     "data": {
      "application/vnd.jupyter.widget-view+json": {
       "model_id": "4e545f4384b94a488a5b95aa4d9d5a8b",
       "version_major": 2,
       "version_minor": 0
      },
      "text/plain": [
       "HBox(children=(FloatProgress(value=0.0, description='Converting XY to long/lat...', max=409296.0, style=Progre…"
      ]
     },
     "metadata": {},
     "output_type": "display_data"
    },
    {
     "name": "stdout",
     "output_type": "stream",
     "text": [
      "\n",
      "2012\n"
     ]
    },
    {
     "name": "stderr",
     "output_type": "stream",
     "text": [
      "/Users/Yan/anaconda3/lib/python3.8/site-packages/IPython/core/interactiveshell.py:3071: DtypeWarning: Columns (8) have mixed types.Specify dtype option on import or set low_memory=False.\n",
      "  has_raised = await self.run_ast_nodes(code_ast.body, cell_name,\n",
      "/Users/Yan/anaconda3/lib/python3.8/site-packages/tqdm/std.py:668: FutureWarning: The Panel class is removed from pandas. Accessing it from the top-level namespace will also be removed in the next version\n",
      "  from pandas import Panel\n"
     ]
    },
    {
     "name": "stdout",
     "output_type": "stream",
     "text": [
      "Shape after cleaning year 2012(385445, 41)\n"
     ]
    },
    {
     "data": {
      "application/vnd.jupyter.widget-view+json": {
       "model_id": "a54b6229f3cf4e6fa5c8acbd6bcaf875",
       "version_major": 2,
       "version_minor": 0
      },
      "text/plain": [
       "HBox(children=(FloatProgress(value=0.0, description='Converting XY to long/lat...', max=385445.0, style=Progre…"
      ]
     },
     "metadata": {},
     "output_type": "display_data"
    },
    {
     "name": "stdout",
     "output_type": "stream",
     "text": [
      "\n",
      "2013\n"
     ]
    },
    {
     "name": "stderr",
     "output_type": "stream",
     "text": [
      "/Users/Yan/anaconda3/lib/python3.8/site-packages/IPython/core/interactiveshell.py:3071: DtypeWarning: Columns (8,31,32) have mixed types.Specify dtype option on import or set low_memory=False.\n",
      "  has_raised = await self.run_ast_nodes(code_ast.body, cell_name,\n",
      "/Users/Yan/anaconda3/lib/python3.8/site-packages/tqdm/std.py:668: FutureWarning: The Panel class is removed from pandas. Accessing it from the top-level namespace will also be removed in the next version\n",
      "  from pandas import Panel\n"
     ]
    },
    {
     "name": "stdout",
     "output_type": "stream",
     "text": [
      "Shape after cleaning year 2013(390032, 41)\n"
     ]
    },
    {
     "data": {
      "application/vnd.jupyter.widget-view+json": {
       "model_id": "21e2c181b92943d39905e65daa98a8be",
       "version_major": 2,
       "version_minor": 0
      },
      "text/plain": [
       "HBox(children=(FloatProgress(value=0.0, description='Converting XY to long/lat...', max=390032.0, style=Progre…"
      ]
     },
     "metadata": {},
     "output_type": "display_data"
    },
    {
     "name": "stdout",
     "output_type": "stream",
     "text": [
      "\n",
      "2014\n"
     ]
    },
    {
     "name": "stderr",
     "output_type": "stream",
     "text": [
      "/Users/Yan/anaconda3/lib/python3.8/site-packages/IPython/core/interactiveshell.py:3071: DtypeWarning: Columns (8,31) have mixed types.Specify dtype option on import or set low_memory=False.\n",
      "  has_raised = await self.run_ast_nodes(code_ast.body, cell_name,\n",
      "/Users/Yan/anaconda3/lib/python3.8/site-packages/tqdm/std.py:668: FutureWarning: The Panel class is removed from pandas. Accessing it from the top-level namespace will also be removed in the next version\n",
      "  from pandas import Panel\n"
     ]
    },
    {
     "name": "stdout",
     "output_type": "stream",
     "text": [
      "Shape after cleaning year 2014(481981, 41)\n"
     ]
    },
    {
     "data": {
      "application/vnd.jupyter.widget-view+json": {
       "model_id": "bbd274757b2943daa8c68b16b785f3b5",
       "version_major": 2,
       "version_minor": 0
      },
      "text/plain": [
       "HBox(children=(FloatProgress(value=0.0, description='Converting XY to long/lat...', max=481981.0, style=Progre…"
      ]
     },
     "metadata": {},
     "output_type": "display_data"
    },
    {
     "name": "stdout",
     "output_type": "stream",
     "text": [
      "\n",
      "2015\n"
     ]
    },
    {
     "name": "stderr",
     "output_type": "stream",
     "text": [
      "/Users/Yan/anaconda3/lib/python3.8/site-packages/IPython/core/interactiveshell.py:3071: DtypeWarning: Columns (8,17,31) have mixed types.Specify dtype option on import or set low_memory=False.\n",
      "  has_raised = await self.run_ast_nodes(code_ast.body, cell_name,\n",
      "/Users/Yan/anaconda3/lib/python3.8/site-packages/tqdm/std.py:668: FutureWarning: The Panel class is removed from pandas. Accessing it from the top-level namespace will also be removed in the next version\n",
      "  from pandas import Panel\n"
     ]
    },
    {
     "name": "stdout",
     "output_type": "stream",
     "text": [
      "Shape after cleaning year 2015(534170, 41)\n"
     ]
    },
    {
     "data": {
      "application/vnd.jupyter.widget-view+json": {
       "model_id": "a191290b2f884e35876b143196b9de7b",
       "version_major": 2,
       "version_minor": 0
      },
      "text/plain": [
       "HBox(children=(FloatProgress(value=0.0, description='Converting XY to long/lat...', max=534170.0, style=Progre…"
      ]
     },
     "metadata": {},
     "output_type": "display_data"
    },
    {
     "name": "stdout",
     "output_type": "stream",
     "text": [
      "\n",
      "2016\n"
     ]
    },
    {
     "name": "stderr",
     "output_type": "stream",
     "text": [
      "/Users/Yan/anaconda3/lib/python3.8/site-packages/IPython/core/interactiveshell.py:3071: DtypeWarning: Columns (8,31) have mixed types.Specify dtype option on import or set low_memory=False.\n",
      "  has_raised = await self.run_ast_nodes(code_ast.body, cell_name,\n",
      "/Users/Yan/anaconda3/lib/python3.8/site-packages/tqdm/std.py:668: FutureWarning: The Panel class is removed from pandas. Accessing it from the top-level namespace will also be removed in the next version\n",
      "  from pandas import Panel\n"
     ]
    },
    {
     "name": "stdout",
     "output_type": "stream",
     "text": [
      "Shape after cleaning year 2016(558866, 41)\n"
     ]
    },
    {
     "data": {
      "application/vnd.jupyter.widget-view+json": {
       "model_id": "55c959c6ac68485d8c54842b4b9742ff",
       "version_major": 2,
       "version_minor": 0
      },
      "text/plain": [
       "HBox(children=(FloatProgress(value=0.0, description='Converting XY to long/lat...', max=558866.0, style=Progre…"
      ]
     },
     "metadata": {},
     "output_type": "display_data"
    },
    {
     "name": "stdout",
     "output_type": "stream",
     "text": [
      "\n",
      "2017\n"
     ]
    },
    {
     "name": "stderr",
     "output_type": "stream",
     "text": [
      "/Users/Yan/anaconda3/lib/python3.8/site-packages/IPython/core/interactiveshell.py:3071: DtypeWarning: Columns (8,17,31,32) have mixed types.Specify dtype option on import or set low_memory=False.\n",
      "  has_raised = await self.run_ast_nodes(code_ast.body, cell_name,\n",
      "/Users/Yan/anaconda3/lib/python3.8/site-packages/tqdm/std.py:668: FutureWarning: The Panel class is removed from pandas. Accessing it from the top-level namespace will also be removed in the next version\n",
      "  from pandas import Panel\n"
     ]
    },
    {
     "name": "stdout",
     "output_type": "stream",
     "text": [
      "Shape after cleaning year 2017(585242, 41)\n"
     ]
    },
    {
     "data": {
      "application/vnd.jupyter.widget-view+json": {
       "model_id": "6446789215fe492c9a296c27a2cff9bb",
       "version_major": 2,
       "version_minor": 0
      },
      "text/plain": [
       "HBox(children=(FloatProgress(value=0.0, description='Converting XY to long/lat...', max=585242.0, style=Progre…"
      ]
     },
     "metadata": {},
     "output_type": "display_data"
    },
    {
     "name": "stdout",
     "output_type": "stream",
     "text": [
      "\n",
      "2018\n"
     ]
    },
    {
     "name": "stderr",
     "output_type": "stream",
     "text": [
      "/Users/Yan/anaconda3/lib/python3.8/site-packages/IPython/core/interactiveshell.py:3071: DtypeWarning: Columns (8,31) have mixed types.Specify dtype option on import or set low_memory=False.\n",
      "  has_raised = await self.run_ast_nodes(code_ast.body, cell_name,\n",
      "/Users/Yan/anaconda3/lib/python3.8/site-packages/tqdm/std.py:668: FutureWarning: The Panel class is removed from pandas. Accessing it from the top-level namespace will also be removed in the next version\n",
      "  from pandas import Panel\n"
     ]
    },
    {
     "name": "stdout",
     "output_type": "stream",
     "text": [
      "Shape after cleaning year 2018(650078, 41)\n"
     ]
    },
    {
     "data": {
      "application/vnd.jupyter.widget-view+json": {
       "model_id": "9f94e50d823542e5aec80f6f5bbb2971",
       "version_major": 2,
       "version_minor": 0
      },
      "text/plain": [
       "HBox(children=(FloatProgress(value=0.0, description='Converting XY to long/lat...', max=650078.0, style=Progre…"
      ]
     },
     "metadata": {},
     "output_type": "display_data"
    },
    {
     "name": "stdout",
     "output_type": "stream",
     "text": [
      "\n"
     ]
    }
   ],
   "source": [
    "for year in range(2010,2019):\n",
    "    # read 311 data\n",
    "    print(str(year))\n",
    "    calls = pd.read_csv(\"./data/311_\"+str(year)+\".csv\")\n",
    "    tqdm_notebook.pandas(desc='Converting XY to long/lat...')\n",
    "    calls = clean_irrelevant(calls)\n",
    "    print('Shape after cleaning year '+str(year)+ str(calls.shape))\n",
    "    calls['tract'] = calls.progress_apply(lambda row: get_coordinates(row), axis=1)\n",
    "    # create geo df\n",
    "    gdf = geopandas.GeoDataFrame(calls, geometry=geopandas.points_from_xy(calls.Longitude, calls.Latitude), crs=\"EPSG:4269\")\n",
    "    gdf = gdf[gdf['geometry'].is_valid].reset_index(drop=True)\n",
    "    # print(tract_data.head())\n",
    "    # print(gdf.shape, tract_data.shape)\n",
    "    # print(gdf.head())\n",
    "    # print(tract_data.head())\n",
    "     \n",
    "    # try spatial join\n",
    "    # https://stackoverflow.com/questions/62506697/how-to-find-inside-which-multipolygon-of-a-geopandas-dataframe-a-point-lies\n",
    "    pointInPolys = sjoin(gdf, tract_data, how='left', op='within')\n",
    "    pointInPolys = pointInPolys.drop(columns=['X Coordinate (State Plane)','Y Coordinate (State Plane)','Location','tract', 'geometry', 'index_right', 'NAME', 'LSAD','ALAND', 'AWATER'])\n",
    "\n",
    "    # Save file with tracts for each call\n",
    "    pointInPolys.to_csv('./data/311Calls_tracts/calls_and_tracts_'+str(year)+'.csv', index=False)\n"
   ]
  },
  {
   "cell_type": "code",
   "execution_count": null,
   "metadata": {},
   "outputs": [],
   "source": []
  },
  {
   "cell_type": "code",
   "execution_count": null,
   "metadata": {},
   "outputs": [],
   "source": []
  }
 ],
 "metadata": {
  "kernelspec": {
   "display_name": "Python 3",
   "language": "python",
   "name": "python3"
  },
  "language_info": {
   "codemirror_mode": {
    "name": "ipython",
    "version": 3
   },
   "file_extension": ".py",
   "mimetype": "text/x-python",
   "name": "python",
   "nbconvert_exporter": "python",
   "pygments_lexer": "ipython3",
   "version": "3.8.3"
  }
 },
 "nbformat": 4,
 "nbformat_minor": 4
}
