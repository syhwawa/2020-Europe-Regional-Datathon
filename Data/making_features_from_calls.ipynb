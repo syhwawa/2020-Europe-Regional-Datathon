{
 "cells": [
  {
   "cell_type": "code",
   "execution_count": 1,
   "metadata": {},
   "outputs": [],
   "source": [
    "import pandas as pd"
   ]
  },
  {
   "cell_type": "code",
   "execution_count": 2,
   "metadata": {},
   "outputs": [],
   "source": [
    "def create_feature(row, agency, calls):\n",
    "    count = len(calls[(calls['Agency'] == agency) & (calls['TRACTCE'] == row.Tract)])\n",
    "    return count"
   ]
  },
  {
   "cell_type": "code",
   "execution_count": 3,
   "metadata": {},
   "outputs": [],
   "source": [
    "file1='./data/311Calls_Tracts/calls_and_tracts_2010.csv'\n",
    "calls=pd.read_csv(file1,dtype={'TRACTCE': str, 'GEOID': str})\n",
    "features=pd.DataFrame()\n",
    "features['Tract']=calls.TRACTCE.unique()\n",
    "grouped = calls.groupby(['GEOID','Agency'])\n",
    "\n"
   ]
  },
  {
   "cell_type": "code",
   "execution_count": 6,
   "metadata": {},
   "outputs": [
    {
     "name": "stdout",
     "output_type": "stream",
     "text": [
      "2010\n",
      "2011\n",
      "2012\n",
      "2013\n",
      "2014\n",
      "2015\n",
      "2016\n",
      "2017\n",
      "2018\n"
     ]
    }
   ],
   "source": [
    "for year in range(2010,2019):\n",
    "    print(str(year))\n",
    "    file1='./data/311Calls_Tracts/calls_and_tracts_'+str(year)+'.csv'\n",
    "    calls=pd.read_csv(file1,dtype={'TRACTCE': str, 'GEOID': str})\n",
    "    features=pd.DataFrame()\n",
    "    features['GEOID']=calls.GEOID.unique()\n",
    "    features.set_index('GEOID', inplace = True)\n",
    "    grouped = calls.groupby(['GEOID','Agency'])\n",
    "    \n",
    "    for agency in calls['Agency'].unique():\n",
    "        features['calls_'+agency]= 0\n",
    "    \n",
    "    for index, value in grouped.size().items():\n",
    "        features.at[index[0],'calls_'+index[1]]=value\n",
    "    \n",
    "    features.to_csv('./data/calls_features/department_calls_'+str(year)+'.csv', index=True)\n",
    "    "
   ]
  },
  {
   "cell_type": "code",
   "execution_count": null,
   "metadata": {},
   "outputs": [],
   "source": []
  },
  {
   "cell_type": "code",
   "execution_count": null,
   "metadata": {},
   "outputs": [],
   "source": []
  }
 ],
 "metadata": {
  "kernelspec": {
   "display_name": "Python 3",
   "language": "python",
   "name": "python3"
  },
  "language_info": {
   "codemirror_mode": {
    "name": "ipython",
    "version": 3
   },
   "file_extension": ".py",
   "mimetype": "text/x-python",
   "name": "python",
   "nbconvert_exporter": "python",
   "pygments_lexer": "ipython3",
   "version": "3.8.3"
  }
 },
 "nbformat": 4,
 "nbformat_minor": 4
}
